{
 "cells": [
  {
   "cell_type": "markdown",
   "id": "7d158650-3806-427e-a7dc-ddd18a03e7f3",
   "metadata": {},
   "source": [
    "## IID (Independent and Identically Distributed)"
   ]
  },
  {
   "cell_type": "code",
   "execution_count": 1,
   "id": "0b5cc2a3-5d81-45f8-ad1e-05453179a09f",
   "metadata": {},
   "outputs": [],
   "source": [
    "from torchvision import datasets, transforms\n",
    "from torch.utils.data import DataLoader, Subset\n",
    "import numpy as np"
   ]
  },
  {
   "cell_type": "code",
   "execution_count": 2,
   "id": "80912a49-4768-4f45-96da-536953546a0e",
   "metadata": {},
   "outputs": [],
   "source": [
    "transform = transforms.Compose([transforms.ToTensor()])\n",
    "mnist_train = datasets.MNIST(root='./data', train=True, download=True, transform=transform)\n",
    "\n",
    "# Shuffle indices\n",
    "indices = np.arange(len(mnist_train))\n",
    "np.random.shuffle(indices)\n",
    "\n",
    "# Split indices\n",
    "client_indices = np.array_split(indices, 10)\n",
    "\n",
    "# Create datasets per client\n",
    "client_datasets = [Subset(mnist_train, idxs) for idxs in client_indices]"
   ]
  },
  {
   "cell_type": "code",
   "execution_count": null,
   "id": "e5ca8d37-74f8-4fb8-a695-02a1395b49c0",
   "metadata": {},
   "outputs": [],
   "source": []
  }
 ],
 "metadata": {
  "kernelspec": {
   "display_name": "Python 3 (ipykernel)",
   "language": "python",
   "name": "python3"
  },
  "language_info": {
   "codemirror_mode": {
    "name": "ipython",
    "version": 3
   },
   "file_extension": ".py",
   "mimetype": "text/x-python",
   "name": "python",
   "nbconvert_exporter": "python",
   "pygments_lexer": "ipython3",
   "version": "3.11.7"
  }
 },
 "nbformat": 4,
 "nbformat_minor": 5
}
